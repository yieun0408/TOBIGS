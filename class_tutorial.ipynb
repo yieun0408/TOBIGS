{
 "cells": [
  {
   "cell_type": "markdown",
   "metadata": {},
   "source": [
    "# 클라스"
   ]
  },
  {
   "cell_type": "code",
   "execution_count": 5,
   "metadata": {},
   "outputs": [],
   "source": [
    "#마법사 클라스 만들기\n",
    "class wizard:\n",
    "    \"\"\"마법사 class를 만듬\"\"\"\n",
    "    \n",
    "    def __init__(self, health, mana): \n",
    "        self.health = health\n",
    "        self.mana = mana\n",
    "        \n",
    "    def magic(self):\n",
    "        print('매직클로')"
   ]
  },
  {
   "cell_type": "code",
   "execution_count": 6,
   "metadata": {},
   "outputs": [],
   "source": [
    "#인스턴스로 불러오기\n",
    "me = wizard(health=10, mana=50)"
   ]
  },
  {
   "cell_type": "code",
   "execution_count": 8,
   "metadata": {},
   "outputs": [
    {
     "name": "stdout",
     "output_type": "stream",
     "text": [
      "10 50\n",
      "매직클로\n"
     ]
    }
   ],
   "source": [
    "#사용\n",
    "print(me.health, me.mana)\n",
    "me.magic() #인스턴스로 메스드 호출"
   ]
  },
  {
   "cell_type": "code",
   "execution_count": 9,
   "metadata": {},
   "outputs": [],
   "source": [
    "#전사 클라스 만들기\n",
    "class knight:\n",
    "    \"\"\"전사 class를 만듬\"\"\"\n",
    "    def __init__(self, health, mana):\n",
    "        self.health = health\n",
    "        self.mana = mana\n",
    "        \n",
    "    def slash(self):\n",
    "        print('베기')"
   ]
  },
  {
   "cell_type": "code",
   "execution_count": 10,
   "metadata": {},
   "outputs": [],
   "source": [
    "you = knight(health=50, mana=10)"
   ]
  },
  {
   "cell_type": "code",
   "execution_count": 11,
   "metadata": {},
   "outputs": [
    {
     "name": "stdout",
     "output_type": "stream",
     "text": [
      "50 10\n",
      "베기\n"
     ]
    }
   ],
   "source": [
    "print(you.health, you.mana)\n",
    "you.slash()  #인스턴스로 메스드 호출"
   ]
  },
  {
   "cell_type": "markdown",
   "metadata": {},
   "source": [
    "# 오버라이딩 & super\n",
    "메소드 오버라이딩: 원래 기능을 유지하면서 새로운 기능을 덧불일 때 사용(어떤 기능이 같은 메서드 이름으로 계속 사용되어야 할 때!)"
   ]
  },
  {
   "cell_type": "code",
   "execution_count": 13,
   "metadata": {},
   "outputs": [
    {
     "name": "stdout",
     "output_type": "stream",
     "text": [
      "안녕하세요\n",
      "저는 학생입니다.\n"
     ]
    }
   ],
   "source": [
    "class Person:\n",
    "    def greeting(self):\n",
    "        print('안녕하세요')\n",
    "        \n",
    "class Student(Person):  #student 클라스는 person 클라스(기반 클라스)를 상속 받음! = student클라스는 파생클라스\n",
    "    def greeting(self): #어!!? student클라스도 person클라스(기반 클라스)의 greeting메소드를 똑같이 사용함\n",
    "        super().greeting() #기반 클라스의 메서드(greeting)를 호출하여 중복을 줄임\n",
    "        print('저는 학생입니다.')\n",
    "\n",
    "yieun = Student()\n",
    "yieun.greeting() #출력 결과, 안녕하세요(기반클라스의 greeting 메서드 호출) -> 저는 학생입니다.(파생클라스의 greeting메스드 호출)\n",
    "\n",
    "#즉, 중복되는 기능은 파생 클라스에서 다시 만들지 않고 기반 클라스의 기능을 사용하겠다!"
   ]
  },
  {
   "cell_type": "code",
   "execution_count": 14,
   "metadata": {},
   "outputs": [
    {
     "name": "stdout",
     "output_type": "stream",
     "text": [
      "저는 학생입니다.\n"
     ]
    }
   ],
   "source": [
    "#그렇다면, super를 사용하지 않고 그냥 쓰면 어떻게 될까?\n",
    "class Person:\n",
    "    def greeting(self):\n",
    "        print('안녕하세요')\n",
    "        \n",
    "class Student(Person):  #student 클라스는 person 클라스(기반 클라스)를 상속 받음! = student클라스는 파생클라스\n",
    "    def greeting(self): #어!!? student클라스도 person클라스(기반 클라스)의 greeting메소드를 똑같이 사용함\n",
    "        print('저는 학생입니다.')\n",
    "\n",
    "yieun = Student()\n",
    "yieun.greeting() #결과, '저는 학생입니다.'만 출력됨\n",
    "\n",
    "#이게 바로 오버라이딩!!!\n",
    "#overriding = 무시하다, 우선하다라는 뜻\n",
    "#기반 클라스 메서드를 무시하고 새로운 메서드를 우선시함.\n"
   ]
  },
  {
   "cell_type": "code",
   "execution_count": null,
   "metadata": {},
   "outputs": [],
   "source": []
  },
  {
   "cell_type": "code",
   "execution_count": null,
   "metadata": {},
   "outputs": [],
   "source": []
  }
 ],
 "metadata": {
  "kernelspec": {
   "display_name": "Python 3",
   "language": "python",
   "name": "python3"
  },
  "language_info": {
   "codemirror_mode": {
    "name": "ipython",
    "version": 3
   },
   "file_extension": ".py",
   "mimetype": "text/x-python",
   "name": "python",
   "nbconvert_exporter": "python",
   "pygments_lexer": "ipython3",
   "version": "3.6.6"
  }
 },
 "nbformat": 4,
 "nbformat_minor": 2
}
